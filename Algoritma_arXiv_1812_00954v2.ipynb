{
  "nbformat": 4,
  "nbformat_minor": 0,
  "metadata": {
    "colab": {
      "provenance": [],
      "authorship_tag": "ABX9TyOY5hGN+QWkXSlPjZoiRte/",
      "include_colab_link": true
    },
    "kernelspec": {
      "name": "python3",
      "display_name": "Python 3"
    },
    "language_info": {
      "name": "python"
    }
  },
  "cells": [
    {
      "cell_type": "markdown",
      "metadata": {
        "id": "view-in-github",
        "colab_type": "text"
      },
      "source": [
        "<a href=\"https://colab.research.google.com/github/elangbijak4/Quantum_Algorithm_Almudaya/blob/main/Algoritma_arXiv_1812_00954v2.ipynb\" target=\"_parent\"><img src=\"https://colab.research.google.com/assets/colab-badge.svg\" alt=\"Open In Colab\"/></a>"
      ]
    },
    {
      "cell_type": "markdown",
      "source": [
        "Kami mencoba mengimplementasikan Algoritma ini menggunakan Cirq berdasarkan ide yang diusulkan oleh Guang Hao Low, Vadym Kliuchnikov, and Luke Schaeffer di dalam paper arXiv:1812.00954v2 [quant-ph] 11 Jun 2024"
      ],
      "metadata": {
        "id": "j-a5ocYmpqij"
      }
    },
    {
      "cell_type": "code",
      "source": [
        "!pip install cirq"
      ],
      "metadata": {
        "id": "zb-FemFrleVq"
      },
      "execution_count": null,
      "outputs": []
    },
    {
      "cell_type": "code",
      "execution_count": 2,
      "metadata": {
        "id": "_CbC4vtelbKe"
      },
      "outputs": [],
      "source": [
        "import cirq\n",
        "import numpy as np\n",
        "import matplotlib.pyplot as plt"
      ]
    },
    {
      "cell_type": "code",
      "source": [
        "# Fungsi untuk membuat qubit dan sirkuit\n",
        "def create_circuit():\n",
        "    # Membuat qubit utama dan qubit kotor\n",
        "    main_qubit = cirq.NamedQubit('main')\n",
        "    dirty_qubits = [cirq.NamedQubit(f'dirty_{i}') for i in range(3)]\n",
        "\n",
        "    # Membuat sirkuit\n",
        "    circuit = cirq.Circuit()\n",
        "\n",
        "    # Menambahkan operasi ke sirkuit\n",
        "    circuit.append(cirq.H(main_qubit))  # Hadamard gate pada qubit utama\n",
        "    for q in dirty_qubits:\n",
        "        circuit.append(cirq.T(q))  # Gerbang T pada setiap qubit kotor\n",
        "\n",
        "    # Contoh operasi yang memanfaatkan qubit kotor\n",
        "    for q in dirty_qubits:\n",
        "        circuit.append(cirq.CNOT(main_qubit, q))  # Menggunakan CNOT antara qubit utama dan qubit kotor\n",
        "\n",
        "    # Menggunakan qubit kotor untuk membantu dalam operasi pada qubit utama\n",
        "    circuit.append(cirq.TOFFOLI(dirty_qubits[0], dirty_qubits[1], main_qubit))  # Gerbang Toffoli sebagai contoh\n",
        "\n",
        "    # Menambahkan operasi pengukuran\n",
        "    circuit.append(cirq.measure(main_qubit, key='main'))\n",
        "    for i, q in enumerate(dirty_qubits):\n",
        "        circuit.append(cirq.measure(q, key=f'dirty_{i}'))\n",
        "\n",
        "    return circuit"
      ],
      "metadata": {
        "id": "oW_TeE48lkqp"
      },
      "execution_count": 22,
      "outputs": []
    },
    {
      "cell_type": "code",
      "source": [
        "# Membuat dan menampilkan sirkuit\n",
        "circuit = create_circuit()\n",
        "print(circuit)"
      ],
      "metadata": {
        "colab": {
          "base_uri": "https://localhost:8080/"
        },
        "id": "V_c6AHvnlnqF",
        "outputId": "a980b0a1-03e8-48bc-faab-0dffbe767843"
      },
      "execution_count": 23,
      "outputs": [
        {
          "output_type": "stream",
          "name": "stdout",
          "text": [
            "                            ┌──┐\n",
            "dirty_0: ───T───X────────────@─────M───\n",
            "                │            │\n",
            "dirty_1: ───T───┼───X────────@─────M───\n",
            "                │   │        │\n",
            "dirty_2: ───T───┼───┼───X────┼M────────\n",
            "                │   │   │    │\n",
            "main: ──────H───@───@───@────X─────M───\n",
            "                            └──┘\n"
          ]
        }
      ]
    },
    {
      "cell_type": "code",
      "source": [
        "!pip install --upgrade cirq"
      ],
      "metadata": {
        "id": "0Z8zW9DpmMKA"
      },
      "execution_count": null,
      "outputs": []
    },
    {
      "cell_type": "code",
      "source": [
        "# Menjalankan sirkuit pada simulator\n",
        "simulator = cirq.Simulator()\n",
        "result = simulator.run(circuit, repetitions=1000)"
      ],
      "metadata": {
        "id": "sqKLArB3lrYA"
      },
      "execution_count": 25,
      "outputs": []
    },
    {
      "cell_type": "code",
      "source": [
        "# Mendapatkan hasil pengukuran\n",
        "histogram = result.multi_measurement_histogram(keys=['main'] + [f'dirty_{i}' for i in range(3)])\n",
        "print(\"Histogram:\", histogram)"
      ],
      "metadata": {
        "colab": {
          "base_uri": "https://localhost:8080/"
        },
        "id": "oqRf1ORSpbFm",
        "outputId": "76f046c5-bf3e-415e-beb3-867ee1d6ba00"
      },
      "execution_count": 27,
      "outputs": [
        {
          "output_type": "stream",
          "name": "stdout",
          "text": [
            "Histogram: Counter({(0, 0, 0, 0): 512, (0, 1, 1, 1): 488})\n"
          ]
        }
      ]
    },
    {
      "cell_type": "code",
      "source": [
        "# Menggambar histogram probabilitas\n",
        "states = [''.join(map(str, bits)) for bits in histogram.keys()]\n",
        "probabilities = np.array([histogram[x] for x in histogram.keys()]) / 1000"
      ],
      "metadata": {
        "id": "1ewc6bqRpfUJ"
      },
      "execution_count": 28,
      "outputs": []
    },
    {
      "cell_type": "code",
      "source": [
        "plt.figure(figsize=(10, 6))\n",
        "plt.bar(states, probabilities)\n",
        "plt.xlabel('States')\n",
        "plt.ylabel('Probability')\n",
        "plt.title('Probability Distribution of Measurement Results')\n",
        "plt.show()"
      ],
      "metadata": {
        "colab": {
          "base_uri": "https://localhost:8080/",
          "height": 564
        },
        "id": "w4xfm3YHpiv0",
        "outputId": "754ea381-28f7-4439-b851-57220dd67db0"
      },
      "execution_count": 29,
      "outputs": [
        {
          "output_type": "display_data",
          "data": {
            "text/plain": [
              "<Figure size 1000x600 with 1 Axes>"
            ],
            "image/png": "[encoded data removed]"
          },
          "metadata": {}
        }
      ]
    }
  ]
}