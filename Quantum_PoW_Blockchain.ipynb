{
  "nbformat": 4,
  "nbformat_minor": 0,
  "metadata": {
    "colab": {
      "provenance": [],
      "authorship_tag": "ABX9TyPYqW8hVHKBBS9ubm95GwLI",
      "include_colab_link": true
    },
    "kernelspec": {
      "name": "python3",
      "display_name": "Python 3"
    },
    "language_info": {
      "name": "python"
    }
  },
  "cells": [
    {
      "cell_type": "markdown",
      "metadata": {
        "id": "view-in-github",
        "colab_type": "text"
      },
      "source": [
        "<a href=\"https://colab.research.google.com/github/elangbijak4/Quantum_Algorithm_Almudaya/blob/main/Quantum_PoW_Blockchain.ipynb\" target=\"_parent\"><img src=\"https://colab.research.google.com/assets/colab-badge.svg\" alt=\"Open In Colab\"/></a>"
      ]
    },
    {
      "cell_type": "code",
      "source": [
        "!pip install cirq"
      ],
      "metadata": {
        "id": "tVJ-Gwn5PHVL"
      },
      "execution_count": null,
      "outputs": []
    },
    {
      "cell_type": "code",
      "execution_count": 3,
      "metadata": {
        "id": "mC7x7lh3OZ64"
      },
      "outputs": [],
      "source": [
        "import hashlib\n",
        "import datetime as date\n",
        "import cirq"
      ]
    },
    {
      "cell_type": "code",
      "source": [
        "class Block:\n",
        "    def __init__(self, index, timestamp, data, previous_hash, nonce=0):\n",
        "        self.index = index\n",
        "        self.timestamp = timestamp\n",
        "        self.data = data\n",
        "        self.previous_hash = previous_hash\n",
        "        self.nonce = nonce\n",
        "        self.hash = self.calculate_hash()\n",
        "\n",
        "    def calculate_hash(self):\n",
        "        sha = hashlib.sha256()\n",
        "        sha.update(str(self.index).encode('utf-8') +\n",
        "                   str(self.timestamp).encode('utf-8') +\n",
        "                   str(self.data).encode('utf-8') +\n",
        "                   str(self.previous_hash).encode('utf-8') +\n",
        "                   str(self.nonce).encode('utf-8'))\n",
        "        return sha.hexdigest()"
      ],
      "metadata": {
        "id": "tUelIWn4Opdc"
      },
      "execution_count": 4,
      "outputs": []
    },
    {
      "cell_type": "code",
      "source": [
        "class QuantumProofOfWork:\n",
        "    def __init__(self, difficulty):\n",
        "        self.difficulty = difficulty\n",
        "\n",
        "    def run_quantum_circuit(self, nonce):\n",
        "        # Membuat qubit untuk nonce\n",
        "        qubits = cirq.LineQubit.range(3)\n",
        "\n",
        "        # Membuat sirkuit kuantum sederhana\n",
        "        circuit = cirq.Circuit(\n",
        "            cirq.H(qubits[0]),\n",
        "            cirq.CX(qubits[0], qubits[1]),\n",
        "            cirq.X(qubits[1]) ** nonce,\n",
        "            cirq.H(qubits[1]),\n",
        "            cirq.measure(qubits[1], key='result')\n",
        "        )\n",
        "\n",
        "        # Simulasi sirkuit kuantum\n",
        "        simulator = cirq.Simulator()\n",
        "        result = simulator.run(circuit, repetitions=1)\n",
        "\n",
        "        # Mendapatkan hasil dari pengukuran\n",
        "        measured_result = result.measurements['result'][0]\n",
        "        return int(measured_result)\n",
        "\n",
        "    def mine(self, block):\n",
        "        nonce = 0\n",
        "        target = 2 ** (256 - self.difficulty)\n",
        "        while True:\n",
        "            block.nonce = nonce\n",
        "            hash_result = int(block.calculate_hash(), 16)\n",
        "            quantum_hash = self.run_quantum_circuit(nonce)\n",
        "            if hash_result < target and quantum_hash == 0:  # hash_result meets difficulty and quantum_hash condition\n",
        "                return nonce, quantum_hash\n",
        "            else:\n",
        "                nonce += 1"
      ],
      "metadata": {
        "id": "oJTB41LAOsy_"
      },
      "execution_count": 5,
      "outputs": []
    },
    {
      "cell_type": "code",
      "source": [
        "class Blockchain:\n",
        "    def __init__(self, difficulty):\n",
        "        self.chain = [self.create_genesis_block()]\n",
        "        self.difficulty = difficulty\n",
        "        self.qpow = QuantumProofOfWork(self.difficulty)\n",
        "\n",
        "    def create_genesis_block(self):\n",
        "        return Block(0, date.datetime.now(), \"Genesis Block\", \"0\")\n",
        "\n",
        "    def get_latest_block(self):\n",
        "        return self.chain[-1]\n",
        "\n",
        "    def add_block(self, new_block):\n",
        "        new_block.previous_hash = self.get_latest_block().hash\n",
        "        nonce, quantum_hash = self.qpow.mine(new_block)\n",
        "        new_block.nonce = nonce\n",
        "        new_block.hash = new_block.calculate_hash()\n",
        "        self.chain.append(new_block)\n",
        "        print(f\"Block mined with Nonce: {nonce} and Quantum Hash: {quantum_hash}\")"
      ],
      "metadata": {
        "id": "dW9u9zkVOyuf"
      },
      "execution_count": 6,
      "outputs": []
    },
    {
      "cell_type": "code",
      "source": [
        "# Membuat blockchain dengan kesulitan tertentu\n",
        "difficulty = 4\n",
        "my_blockchain = Blockchain(difficulty)"
      ],
      "metadata": {
        "id": "iREj22atO1MC"
      },
      "execution_count": 7,
      "outputs": []
    },
    {
      "cell_type": "code",
      "source": [
        "# Menambahkan beberapa blok\n",
        "my_blockchain.add_block(Block(1, date.datetime.now(), {'amount': 4}, ''))\n",
        "my_blockchain.add_block(Block(2, date.datetime.now(), {'amount': 10}, ''))"
      ],
      "metadata": {
        "colab": {
          "base_uri": "https://localhost:8080/"
        },
        "id": "ERuexRL6O3Vf",
        "outputId": "491eaec3-7bb5-4744-aaa7-2964320eebc7"
      },
      "execution_count": 8,
      "outputs": [
        {
          "output_type": "stream",
          "name": "stdout",
          "text": [
            "Block mined with Nonce: 4 and Quantum Hash: 0\n",
            "Block mined with Nonce: 10 and Quantum Hash: 0\n"
          ]
        },
        {
          "output_type": "stream",
          "name": "stderr",
          "text": [
            "<ipython-input-5-5d1a21b0508d>:24: DeprecationWarning: Conversion of an array with ndim > 0 to a scalar is deprecated, and will error in future. Ensure you extract a single element from your array before performing this operation. (Deprecated NumPy 1.25.)\n",
            "  return int(measured_result)\n",
            "<ipython-input-5-5d1a21b0508d>:24: DeprecationWarning: Conversion of an array with ndim > 0 to a scalar is deprecated, and will error in future. Ensure you extract a single element from your array before performing this operation. (Deprecated NumPy 1.25.)\n",
            "  return int(measured_result)\n",
            "<ipython-input-5-5d1a21b0508d>:24: DeprecationWarning: Conversion of an array with ndim > 0 to a scalar is deprecated, and will error in future. Ensure you extract a single element from your array before performing this operation. (Deprecated NumPy 1.25.)\n",
            "  return int(measured_result)\n",
            "<ipython-input-5-5d1a21b0508d>:24: DeprecationWarning: Conversion of an array with ndim > 0 to a scalar is deprecated, and will error in future. Ensure you extract a single element from your array before performing this operation. (Deprecated NumPy 1.25.)\n",
            "  return int(measured_result)\n",
            "<ipython-input-5-5d1a21b0508d>:24: DeprecationWarning: Conversion of an array with ndim > 0 to a scalar is deprecated, and will error in future. Ensure you extract a single element from your array before performing this operation. (Deprecated NumPy 1.25.)\n",
            "  return int(measured_result)\n",
            "<ipython-input-5-5d1a21b0508d>:24: DeprecationWarning: Conversion of an array with ndim > 0 to a scalar is deprecated, and will error in future. Ensure you extract a single element from your array before performing this operation. (Deprecated NumPy 1.25.)\n",
            "  return int(measured_result)\n",
            "<ipython-input-5-5d1a21b0508d>:24: DeprecationWarning: Conversion of an array with ndim > 0 to a scalar is deprecated, and will error in future. Ensure you extract a single element from your array before performing this operation. (Deprecated NumPy 1.25.)\n",
            "  return int(measured_result)\n",
            "<ipython-input-5-5d1a21b0508d>:24: DeprecationWarning: Conversion of an array with ndim > 0 to a scalar is deprecated, and will error in future. Ensure you extract a single element from your array before performing this operation. (Deprecated NumPy 1.25.)\n",
            "  return int(measured_result)\n",
            "<ipython-input-5-5d1a21b0508d>:24: DeprecationWarning: Conversion of an array with ndim > 0 to a scalar is deprecated, and will error in future. Ensure you extract a single element from your array before performing this operation. (Deprecated NumPy 1.25.)\n",
            "  return int(measured_result)\n",
            "<ipython-input-5-5d1a21b0508d>:24: DeprecationWarning: Conversion of an array with ndim > 0 to a scalar is deprecated, and will error in future. Ensure you extract a single element from your array before performing this operation. (Deprecated NumPy 1.25.)\n",
            "  return int(measured_result)\n",
            "<ipython-input-5-5d1a21b0508d>:24: DeprecationWarning: Conversion of an array with ndim > 0 to a scalar is deprecated, and will error in future. Ensure you extract a single element from your array before performing this operation. (Deprecated NumPy 1.25.)\n",
            "  return int(measured_result)\n",
            "<ipython-input-5-5d1a21b0508d>:24: DeprecationWarning: Conversion of an array with ndim > 0 to a scalar is deprecated, and will error in future. Ensure you extract a single element from your array before performing this operation. (Deprecated NumPy 1.25.)\n",
            "  return int(measured_result)\n",
            "<ipython-input-5-5d1a21b0508d>:24: DeprecationWarning: Conversion of an array with ndim > 0 to a scalar is deprecated, and will error in future. Ensure you extract a single element from your array before performing this operation. (Deprecated NumPy 1.25.)\n",
            "  return int(measured_result)\n",
            "<ipython-input-5-5d1a21b0508d>:24: DeprecationWarning: Conversion of an array with ndim > 0 to a scalar is deprecated, and will error in future. Ensure you extract a single element from your array before performing this operation. (Deprecated NumPy 1.25.)\n",
            "  return int(measured_result)\n",
            "<ipython-input-5-5d1a21b0508d>:24: DeprecationWarning: Conversion of an array with ndim > 0 to a scalar is deprecated, and will error in future. Ensure you extract a single element from your array before performing this operation. (Deprecated NumPy 1.25.)\n",
            "  return int(measured_result)\n",
            "<ipython-input-5-5d1a21b0508d>:24: DeprecationWarning: Conversion of an array with ndim > 0 to a scalar is deprecated, and will error in future. Ensure you extract a single element from your array before performing this operation. (Deprecated NumPy 1.25.)\n",
            "  return int(measured_result)\n"
          ]
        }
      ]
    },
    {
      "cell_type": "code",
      "source": [
        "# Menampilkan blockchain\n",
        "for block in my_blockchain.chain:\n",
        "    print(f\"Index: {block.index}\")\n",
        "    print(f\"Timestamp: {block.timestamp}\")\n",
        "    print(f\"Data: {block.data}\")\n",
        "    print(f\"Previous Hash: {block.previous_hash}\")\n",
        "    print(f\"Hash: {block.hash}\")\n",
        "    print(f\"Nonce: {block.nonce}\")\n",
        "    print(\"\\n\")"
      ],
      "metadata": {
        "colab": {
          "base_uri": "https://localhost:8080/"
        },
        "id": "906xCXJ9O5G7",
        "outputId": "176f28f2-6e50-4b07-9e1c-2af0cacbe756"
      },
      "execution_count": 9,
      "outputs": [
        {
          "output_type": "stream",
          "name": "stdout",
          "text": [
            "Index: 0\n",
            "Timestamp: 2024-06-18 16:46:24.622595\n",
            "Data: Genesis Block\n",
            "Previous Hash: 0\n",
            "Hash: 6662772d4a60f18ad291d55a3c2c3843f1c08cb472b603387ce54e79a1c0f57f\n",
            "Nonce: 0\n",
            "\n",
            "\n",
            "Index: 1\n",
            "Timestamp: 2024-06-18 16:46:29.035508\n",
            "Data: {'amount': 4}\n",
            "Previous Hash: 6662772d4a60f18ad291d55a3c2c3843f1c08cb472b603387ce54e79a1c0f57f\n",
            "Hash: 0df8e65320f013185cc6f5631fcc0468ea655b611e8b3c41765e2be37f77474b\n",
            "Nonce: 4\n",
            "\n",
            "\n",
            "Index: 2\n",
            "Timestamp: 2024-06-18 16:46:29.069293\n",
            "Data: {'amount': 10}\n",
            "Previous Hash: 0df8e65320f013185cc6f5631fcc0468ea655b611e8b3c41765e2be37f77474b\n",
            "Hash: 00c861ef8e9c65327226e0a82ca2d0875af3896961939d781e9941f298411ff5\n",
            "Nonce: 10\n",
            "\n",
            "\n"
          ]
        }
      ]
    }
  ]
}