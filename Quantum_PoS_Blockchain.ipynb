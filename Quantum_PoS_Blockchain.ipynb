{
  "nbformat": 4,
  "nbformat_minor": 0,
  "metadata": {
    "colab": {
      "provenance": [],
      "authorship_tag": "ABX9TyOqlY4jyQtCv/KWCBOsvWSM",
      "include_colab_link": true
    },
    "kernelspec": {
      "name": "python3",
      "display_name": "Python 3"
    },
    "language_info": {
      "name": "python"
    }
  },
  "cells": [
    {
      "cell_type": "markdown",
      "metadata": {
        "id": "view-in-github",
        "colab_type": "text"
      },
      "source": [
        "<a href=\"https://colab.research.google.com/github/elangbijak4/Quantum_Algorithm_Almudaya/blob/main/Quantum_PoS_Blockchain.ipynb\" target=\"_parent\"><img src=\"https://colab.research.google.com/assets/colab-badge.svg\" alt=\"Open In Colab\"/></a>"
      ]
    },
    {
      "cell_type": "code",
      "source": [
        "!pip install cirq"
      ],
      "metadata": {
        "id": "fnFwD09weuI1"
      },
      "execution_count": null,
      "outputs": []
    },
    {
      "cell_type": "code",
      "source": [
        "import datetime # Import the datetime module\n",
        "import random\n",
        "import cirq"
      ],
      "metadata": {
        "id": "olEeD7xhfTAr"
      },
      "execution_count": 3,
      "outputs": []
    },
    {
      "cell_type": "code",
      "source": [
        "import hashlib"
      ],
      "metadata": {
        "id": "3TOFYYdvgit3"
      },
      "execution_count": 9,
      "outputs": []
    },
    {
      "cell_type": "code",
      "source": [
        "class Block:\n",
        "    def __init__(self, index, timestamp, data, previous_hash, nonce=0, validator=None):\n",
        "        self.index = index\n",
        "        self.timestamp = timestamp\n",
        "        self.data = data\n",
        "        self.previous_hash = previous_hash\n",
        "        self.nonce = nonce\n",
        "        self.validator = validator\n",
        "        self.hash = self.calculate_hash()\n",
        "\n",
        "    def calculate_hash(self):\n",
        "        sha = hashlib.sha256()\n",
        "        sha.update(str(self.index).encode('utf-8') +\n",
        "                   str(self.timestamp).encode('utf-8') +\n",
        "                   str(self.data).encode('utf-8') +\n",
        "                   str(self.previous_hash).encode('utf-8') +\n",
        "                   str(self.nonce).encode('utf-8') +\n",
        "                   str(self.validator).encode('utf-8'))\n",
        "        return sha.hexdigest()"
      ],
      "metadata": {
        "id": "gd1sUZoJfm_N"
      },
      "execution_count": 4,
      "outputs": []
    },
    {
      "cell_type": "code",
      "execution_count": 6,
      "metadata": {
        "id": "hps6nmu8ehFl"
      },
      "outputs": [],
      "source": [
        "class QuantumProofOfStake:\n",
        "    def __init__(self, stakeholders):\n",
        "        self.stakeholders = stakeholders\n",
        "\n",
        "    def quantum_random_selection(self):\n",
        "        # Buat sirkuit kuantum untuk memilih validator berdasarkan stake\n",
        "        qubits = cirq.LineQubit.range(len(self.stakeholders))\n",
        "\n",
        "        circuit = cirq.Circuit(\n",
        "            cirq.H.on_each(*qubits),  # Hadamard gate untuk menciptakan superposisi\n",
        "            cirq.measure(*qubits, key='result')  # Ukur hasil superposisi\n",
        "        )\n",
        "\n",
        "        simulator = cirq.Simulator()\n",
        "        result = simulator.run(circuit, repetitions=1)\n",
        "\n",
        "        # Hitung probabilitas masing-masing pemilik stake dipilih\n",
        "        prob_distribution = {}\n",
        "        for i, stakeholder in enumerate(self.stakeholders):\n",
        "            measurement_result = result.measurements['result'][0][i]\n",
        "            if measurement_result == 1:\n",
        "                prob_distribution[stakeholder] = True\n",
        "            else:\n",
        "                prob_distribution[stakeholder] = False\n",
        "\n",
        "        return prob_distribution\n",
        "\n",
        "    def validate_stake(self, block):\n",
        "        # Validasi stake: Blok harus memiliki indeks yang merupakan kelipatan dari nilai stake\n",
        "        return block.index % len(self.stakeholders) == 0"
      ]
    },
    {
      "cell_type": "code",
      "source": [
        "class Blockchain:\n",
        "    def __init__(self, stakeholders):\n",
        "        self.chain = [self.create_genesis_block()] # Create the genesis block\n",
        "        self.qpos = QuantumProofOfStake(stakeholders)\n",
        "\n",
        "    def create_genesis_block(self):\n",
        "        return Block(0, datetime.datetime.now(), \"Genesis Block\", \"0\") # Use datetime.datetime.now()\n",
        "\n",
        "    def get_latest_block(self):\n",
        "        return self.chain[-1]\n",
        "\n",
        "    def add_block(self, new_block):\n",
        "        new_block.previous_hash = self.get_latest_block().hash\n",
        "\n",
        "        # Pilih validator menggunakan sirkuit kuantum\n",
        "        prob_distribution = self.qpos.quantum_random_selection()\n",
        "        selected_validator = random.choices(list(prob_distribution.keys()), weights=list(prob_distribution.values()))[0]\n",
        "\n",
        "        # Adjust block index for stake validation if needed\n",
        "        while not self.qpos.validate_stake(new_block):\n",
        "            new_block.index += 1  # Increment index until valid\n",
        "\n",
        "        # Simpan validator yang dipilih sebagai bagian dari blok\n",
        "        new_block.validator = selected_validator\n",
        "\n",
        "        # Hitung hash dan tambahkan blok ke blockchain\n",
        "        new_block.hash = new_block.calculate_hash()\n",
        "        self.chain.append(new_block)\n",
        "        print(f\"Block mined with Validator: {new_block.validator}\")"
      ],
      "metadata": {
        "id": "iPVtFjuvgQP2"
      },
      "execution_count": 12,
      "outputs": []
    },
    {
      "cell_type": "code",
      "source": [
        "# Contoh penggunaan dalam sebuah blockchain dengan stakeholders\n",
        "stakeholders = ['Alice', 'Bob', 'Charlie', 'David']\n",
        "my_blockchain = Blockchain(stakeholders)\n",
        "\n",
        "# Menambahkan beberapa blok ke blockchain menggunakan Quantum Proof of Stake (QPoS)\n",
        "for i in range(1, 6):\n",
        "    new_block = Block(i, datetime.datetime.now(), {'amount': random.randint(1, 10)}, '') # Use datetime.datetime.now()\n",
        "    my_blockchain.add_block(new_block)"
      ],
      "metadata": {
        "colab": {
          "base_uri": "https://localhost:8080/"
        },
        "id": "Aqg-Uq_sgSPC",
        "outputId": "9e902bb3-0c15-463f-ff20-cdee9cdc9dfb"
      },
      "execution_count": 13,
      "outputs": [
        {
          "output_type": "stream",
          "name": "stdout",
          "text": [
            "Block mined with Validator: David\n",
            "Block mined with Validator: Charlie\n",
            "Block mined with Validator: Alice\n",
            "Block mined with Validator: Bob\n",
            "Block mined with Validator: Charlie\n"
          ]
        }
      ]
    }
  ]
}