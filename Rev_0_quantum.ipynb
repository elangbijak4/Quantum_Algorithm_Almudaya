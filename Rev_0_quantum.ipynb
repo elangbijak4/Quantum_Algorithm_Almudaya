{
  "nbformat": 4,
  "nbformat_minor": 0,
  "metadata": {
    "colab": {
      "provenance": [],
      "authorship_tag": "ABX9TyP8ckyuFYo98NoAQQu/CrmS",
      "include_colab_link": true
    },
    "kernelspec": {
      "name": "python3",
      "display_name": "Python 3"
    },
    "language_info": {
      "name": "python"
    }
  },
  "cells": [
    {
      "cell_type": "markdown",
      "metadata": {
        "id": "view-in-github",
        "colab_type": "text"
      },
      "source": [
        "<a href=\"https://colab.research.google.com/github/elangbijak4/Quantum_Algorithm_Almudaya/blob/main/Rev_0_quantum.ipynb\" target=\"_parent\"><img src=\"https://colab.research.google.com/assets/colab-badge.svg\" alt=\"Open In Colab\"/></a>"
      ]
    },
    {
      "cell_type": "code",
      "execution_count": null,
      "metadata": {
        "id": "lAuFPJIX6_Nd"
      },
      "outputs": [],
      "source": [
        "!pip install cirq"
      ]
    },
    {
      "cell_type": "code",
      "source": [
        "import cirq\n",
        "\n",
        "# Membuat qubit\n",
        "qubit = cirq.GridQubit(0, 0)\n",
        "\n",
        "# Membuat sirkuit\n",
        "circuit = cirq.Circuit(\n",
        "    cirq.X(qubit)**0.5,      # Apply sqrt(X) gate\n",
        "    cirq.measure(qubit, key='result')  # Measure the qubit\n",
        ")\n",
        "\n",
        "# Simulasi sirkuit\n",
        "simulator = cirq.Simulator()\n",
        "result = simulator.run(circuit, repetitions=10)\n",
        "\n",
        "# Menampilkan hasil\n",
        "print(result)"
      ],
      "metadata": {
        "colab": {
          "base_uri": "https://localhost:8080/"
        },
        "id": "SUSVirVY7FNd",
        "outputId": "6a815537-aef5-4c85-a192-557004ca8754"
      },
      "execution_count": 2,
      "outputs": [
        {
          "output_type": "stream",
          "name": "stdout",
          "text": [
            "result=1011101001\n"
          ]
        }
      ]
    },
    {
      "cell_type": "code",
      "source": [
        "dir(cirq)"
      ],
      "metadata": {
        "collapsed": true,
        "id": "XevaUOxL8Qa5"
      },
      "execution_count": null,
      "outputs": []
    },
    {
      "cell_type": "code",
      "source": [
        "import matplotlib.pyplot as plt\n",
        "\n",
        "# Membuat qubit\n",
        "qubit = cirq.GridQubit(0, 0)\n",
        "\n",
        "# Membuat sirkuit\n",
        "circuit = cirq.Circuit(\n",
        "    cirq.X(qubit)**0.5,      # Apply sqrt(X) gate\n",
        "    cirq.measure(qubit, key='result')  # Measure the qubit\n",
        ")\n",
        "\n",
        "# Menampilkan skema sirkuit secara teks\n",
        "print(\"Circuit:\")\n",
        "print(circuit)\n",
        "\n",
        "# Simulasi sirkuit\n",
        "simulator = cirq.Simulator()\n",
        "result = simulator.run(circuit, repetitions=1000)\n",
        "\n",
        "# Menampilkan hasil\n",
        "print(\"\\nMeasurement results:\")\n",
        "print(result)\n",
        "\n",
        "# Visualisasi output grafik probabilitas\n",
        "histogram = result.histogram(key='result')\n",
        "keys = list(histogram.keys())\n",
        "values = list(histogram.values())\n",
        "plt.bar(keys, values)\n",
        "plt.xlabel('Result')\n",
        "plt.ylabel('Frequency')\n",
        "plt.title('Measurement Outcome')\n",
        "plt.xticks(keys)\n",
        "plt.show()"
      ],
      "metadata": {
        "colab": {
          "base_uri": "https://localhost:8080/",
          "height": 340
        },
        "id": "eJO7l4q582ev",
        "outputId": "3c63744e-4450-41e6-9445-591ce98b3d38"
      },
      "execution_count": 5,
      "outputs": [
        {
          "output_type": "stream",
          "name": "stdout",
          "text": [
            "Circuit:\n",
            "(0, 0): ───X^0.5───M('result')───\n",
            "\n",
            "Measurement results:\n",
            "result=0101111000010100011010000101100101000111110100100100111100100101100010111100000110101111101011011010101101000000011101101000110110000010100000100110011110100010010100110101011001110011111010100000000101111010000011110000010111010110100000011010001000000101111111100010111001001010100101001011100101011000100010001001100111111001001010110011100110101110110101001101101110100010111110110011010101100000001100000111011100011000110011111000100100001001100111101111001101111001101011010100000110101110000010111110010111001010101000111000110011011010001100110010000000010111011110011010011100011011100100110000001111100010001110111100010110110101111001111101111110001000100001100011010010101111011110011110011011110110001100101000010101001000011110001000011101011011100000001001011000101100110000010010101110110101111111110011111011011011100010100101010000101101100110110000100101100010000011000111000000001000101101001011000110000110001101001010101100011011110110101100011001101101001110101010100000111111\n"
          ]
        },
        {
          "output_type": "display_data",
          "data": {
            "text/plain": [
              "<Figure size 640x480 with 1 Axes>"
            ],
            "image/png": "[encoded data removed]"
          },
          "metadata": {}
        }
      ]
    }
  ]
}