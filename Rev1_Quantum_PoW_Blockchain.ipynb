{
  "nbformat": 4,
  "nbformat_minor": 0,
  "metadata": {
    "colab": {
      "provenance": [],
      "authorship_tag": "ABX9TyMM4Li7Pn3lHwTnAz3JkJb/",
      "include_colab_link": true
    },
    "kernelspec": {
      "name": "python3",
      "display_name": "Python 3"
    },
    "language_info": {
      "name": "python"
    }
  },
  "cells": [
    {
      "cell_type": "markdown",
      "metadata": {
        "id": "view-in-github",
        "colab_type": "text"
      },
      "source": [
        "<a href=\"https://colab.research.google.com/github/elangbijak4/Quantum_Algorithm_Almudaya/blob/main/Rev1_Quantum_PoW_Blockchain.ipynb\" target=\"_parent\"><img src=\"https://colab.research.google.com/assets/colab-badge.svg\" alt=\"Open In Colab\"/></a>"
      ]
    },
    {
      "cell_type": "code",
      "source": [
        "!pip install cirq"
      ],
      "metadata": {
        "id": "oKHm7o0xRHKQ"
      },
      "execution_count": null,
      "outputs": []
    },
    {
      "cell_type": "code",
      "execution_count": 3,
      "metadata": {
        "id": "3naIM_FoRFWw"
      },
      "outputs": [],
      "source": [
        "import hashlib\n",
        "import datetime as date\n",
        "import cirq"
      ]
    },
    {
      "cell_type": "code",
      "source": [
        "class Block:\n",
        "    def __init__(self, index, timestamp, data, previous_hash, nonce=0):\n",
        "        self.index = index\n",
        "        self.timestamp = timestamp\n",
        "        self.data = data\n",
        "        self.previous_hash = previous_hash\n",
        "        self.nonce = nonce\n",
        "        self.hash = self.calculate_hash()\n",
        "\n",
        "    def calculate_hash(self):\n",
        "        sha = hashlib.sha256()\n",
        "        sha.update(str(self.index).encode('utf-8') +\n",
        "                   str(self.timestamp).encode('utf-8') +\n",
        "                   str(self.data).encode('utf-8') +\n",
        "                   str(self.previous_hash).encode('utf-8') +\n",
        "                   str(self.nonce).encode('utf-8'))\n",
        "        return sha.hexdigest()"
      ],
      "metadata": {
        "id": "MIB-JU50RmZr"
      },
      "execution_count": 4,
      "outputs": []
    },
    {
      "cell_type": "code",
      "source": [
        "class QuantumProofOfWork:\n",
        "    def __init__(self, difficulty):\n",
        "        self.difficulty = difficulty\n",
        "\n",
        "    def run_quantum_circuit(self, nonce):\n",
        "        # Membuat qubit untuk nonce\n",
        "        qubits = cirq.LineQubit.range(3)\n",
        "\n",
        "        # Membuat sirkuit kuantum sederhana\n",
        "        circuit = cirq.Circuit(\n",
        "            cirq.H(qubits[0]),\n",
        "            cirq.CX(qubits[0], qubits[1]),\n",
        "            cirq.X(qubits[1]) ** nonce,\n",
        "            cirq.H(qubits[1]),\n",
        "            cirq.measure(qubits[1], key='result')\n",
        "        )\n",
        "\n",
        "        # Simulasi sirkuit kuantum\n",
        "        simulator = cirq.Simulator()\n",
        "        result = simulator.run(circuit, repetitions=1)\n",
        "\n",
        "        # Mendapatkan hasil dari pengukuran\n",
        "        measured_result = result.measurements['result'][0][0]  # Ambil elemen pertama dari array hasil\n",
        "        return int(measured_result)\n",
        "\n",
        "    def mine(self, block):\n",
        "        nonce = 0\n",
        "        target = 2 ** (256 - self.difficulty)\n",
        "        while True:\n",
        "            block.nonce = nonce\n",
        "            hash_result = int(block.calculate_hash(), 16)\n",
        "            quantum_hash = self.run_quantum_circuit(nonce)\n",
        "            if hash_result < target and quantum_hash == 0:  # hash_result meets difficulty and quantum_hash condition\n",
        "                return nonce, quantum_hash\n",
        "            else:\n",
        "                nonce += 1"
      ],
      "metadata": {
        "id": "qcTqMgsRRpa5"
      },
      "execution_count": 5,
      "outputs": []
    },
    {
      "cell_type": "code",
      "source": [
        "class Blockchain:\n",
        "    def __init__(self, difficulty):\n",
        "        self.chain = [self.create_genesis_block()]\n",
        "        self.difficulty = difficulty\n",
        "        self.qpow = QuantumProofOfWork(self.difficulty)\n",
        "\n",
        "    def create_genesis_block(self):\n",
        "        return Block(0, date.datetime.now(), \"Genesis Block\", \"0\")\n",
        "\n",
        "    def get_latest_block(self):\n",
        "        return self.chain[-1]\n",
        "\n",
        "    def add_block(self, new_block):\n",
        "        new_block.previous_hash = self.get_latest_block().hash\n",
        "        nonce, quantum_hash = self.qpow.mine(new_block)\n",
        "        new_block.nonce = nonce\n",
        "        new_block.hash = new_block.calculate_hash()\n",
        "        self.chain.append(new_block)\n",
        "        print(f\"Block mined with Nonce: {nonce} and Quantum Hash: {quantum_hash}\")"
      ],
      "metadata": {
        "id": "PdfcTtNERr5v"
      },
      "execution_count": 6,
      "outputs": []
    },
    {
      "cell_type": "code",
      "source": [
        "# Membuat blockchain dengan kesulitan tertentu\n",
        "difficulty = 4\n",
        "my_blockchain = Blockchain(difficulty)"
      ],
      "metadata": {
        "id": "Yq7_yoP8RuRn"
      },
      "execution_count": 7,
      "outputs": []
    },
    {
      "cell_type": "code",
      "source": [
        "# Menambahkan beberapa blok\n",
        "my_blockchain.add_block(Block(1, date.datetime.now(), {'amount': 4}, ''))\n",
        "my_blockchain.add_block(Block(2, date.datetime.now(), {'amount': 10}, ''))"
      ],
      "metadata": {
        "colab": {
          "base_uri": "https://localhost:8080/"
        },
        "id": "FcCZHZb0Rv1U",
        "outputId": "21d252a3-3493-4377-9c56-5ecfb1e1b8b3"
      },
      "execution_count": 8,
      "outputs": [
        {
          "output_type": "stream",
          "name": "stdout",
          "text": [
            "Block mined with Nonce: 11 and Quantum Hash: 0\n",
            "Block mined with Nonce: 87 and Quantum Hash: 0\n"
          ]
        }
      ]
    },
    {
      "cell_type": "code",
      "source": [
        "# Menampilkan blockchain\n",
        "for block in my_blockchain.chain:\n",
        "    print(f\"Index: {block.index}\")\n",
        "    print(f\"Timestamp: {block.timestamp}\")\n",
        "    print(f\"Data: {block.data}\")\n",
        "    print(f\"Previous Hash: {block.previous_hash}\")\n",
        "    print(f\"Hash: {block.hash}\")\n",
        "    print(f\"Nonce: {block.nonce}\")\n",
        "    print(\"\\n\")"
      ],
      "metadata": {
        "colab": {
          "base_uri": "https://localhost:8080/"
        },
        "id": "oy5DSSiXRxKu",
        "outputId": "9c3dfc74-ed1f-43f2-fadd-2d519fd090ae"
      },
      "execution_count": 9,
      "outputs": [
        {
          "output_type": "stream",
          "name": "stdout",
          "text": [
            "Index: 0\n",
            "Timestamp: 2024-06-18 16:56:58.034978\n",
            "Data: Genesis Block\n",
            "Previous Hash: 0\n",
            "Hash: afcee504b431b4da013a101d49f214f4a24ed13df04c6adf8390f8589c01db0e\n",
            "Nonce: 0\n",
            "\n",
            "\n",
            "Index: 1\n",
            "Timestamp: 2024-06-18 16:57:01.213003\n",
            "Data: {'amount': 4}\n",
            "Previous Hash: afcee504b431b4da013a101d49f214f4a24ed13df04c6adf8390f8589c01db0e\n",
            "Hash: 0853dc1435df1625c3f237a2398f742fd9b56bbce33ddb2fc99571cca6311125\n",
            "Nonce: 11\n",
            "\n",
            "\n",
            "Index: 2\n",
            "Timestamp: 2024-06-18 16:57:01.241857\n",
            "Data: {'amount': 10}\n",
            "Previous Hash: 0853dc1435df1625c3f237a2398f742fd9b56bbce33ddb2fc99571cca6311125\n",
            "Hash: 08428a9ac093f0d88c25c6dca7d07167ad2664b520332af387389b1565a95bf7\n",
            "Nonce: 87\n",
            "\n",
            "\n"
          ]
        }
      ]
    }
  ]
}